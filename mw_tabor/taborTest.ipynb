{
 "cells": [
  {
   "cell_type": "code",
   "execution_count": null,
   "metadata": {},
   "outputs": [],
   "source": [
    "from time import sleep \n",
    "import pywinusb.hid as hid"
   ]
  },
  {
   "cell_type": "code",
   "execution_count": null,
   "metadata": {},
   "outputs": [],
   "source": [
    "\"\"\"select the func and parameters\"\"\"\n",
    "\n",
    "teVendorId  = 0x168C\n",
    "teLucidDesktopId  = 0x6002  # Use this for Lucid Desktop - 6GHz\n",
    "teLucidPortableId = 0x6081  # Use this for Lucid Portable - 6GHz + 1 Channel\n",
    "teLucidBenchtopId = 0x1202  # Use this for Lucid Benchtop - 12GHz + 2 Channels\n",
    "BUFFER_SIZE = 256\n",
    "\n",
    "class test():\n",
    "    def __init__(self):\n",
    "        self.text = None \n",
    "\n",
    "    def readData(self,data):\n",
    "        strData = ''.join([str(elem) for i, elem in enumerate(data)])\n",
    "        text = \"\"\n",
    "        if len(data) == 0:\n",
    "            print(\"Data is empty\")\n",
    "        elif strData: #and not strData.isspace() and strData.isprintable():\n",
    "            for c in data:\n",
    "                if c != 0:\n",
    "                    text+= chr(c)\n",
    "            print (text)\n",
    "            self.text = text\n",
    "        return None\n",
    "\n",
    "    def send_scpi_cmd(self, device, scpi_cmd):\n",
    "        if not device:\n",
    "            print (\"No device provided\")\n",
    "            return\n",
    "\n",
    "        device.open()\n",
    "        buffer=[0x00]*BUFFER_SIZE # USB packet size\n",
    "        sendData = bytearray(scpi_cmd, 'utf-8')\n",
    "        sendData_len = len(scpi_cmd)\n",
    "\n",
    "        for  i in range(0, sendData_len):\n",
    "            buffer[i+3] = sendData[i]\n",
    "\n",
    "        device.send_output_report(buffer)\n",
    "        sleep(0.1)\n",
    "        device.set_raw_data_handler(self.readData)\n",
    "        device.close()\n",
    "        return self.text"
   ]
  },
  {
   "cell_type": "code",
   "execution_count": null,
   "metadata": {},
   "outputs": [],
   "source": [
    "''' conecte the device '''\n",
    "\n",
    "lucid_device = hid.HidDeviceFilter(vendor_id=teVendorId, product_id=teLucidBenchtopId).get_devices()[0]"
   ]
  },
  {
   "cell_type": "code",
   "execution_count": null,
   "metadata": {},
   "outputs": [],
   "source": [
    "''' Reset the device and test the connection '''\n",
    "\n",
    "a = test()\n",
    "a.send_scpi_cmd(lucid_device, '*CLS')\n",
    "a.send_scpi_cmd(lucid_device, '*RST')\n",
    "a.send_scpi_cmd(lucid_device,'*IDN?')"
   ]
  },
  {
   "cell_type": "code",
   "execution_count": null,
   "metadata": {},
   "outputs": [],
   "source": [
    "\"\"\" set the parameters of sweep mode\"\"\"\n",
    "\n",
    "start = 1e9\n",
    "step = 5\n",
    "stop = 3e9\n",
    "time = 0.5  # works only in continous mode(without external trigger)\n",
    "pow = -10\n",
    "\n",
    "a.send_scpi_cmd(lucid_device, ':INST 1\\n') # select the channel\n",
    "a.send_scpi_cmd(lucid_device, ':INIT:GATE OFF')\n",
    "# a.send_scpi_cmd(lucid_device, ':INIT:CONT ON')\n",
    "a.send_scpi_cmd(lucid_device, ':TRIG:SOUR EXTernal')\n",
    "a.send_scpi_cmd(lucid_device, ':TRIG:EDG POS')\n",
    "# a.send_scpi_cmd(lucid_device, ':TRIG:ADV STEP')\n",
    "\n",
    "print('the state of gate :')\n",
    "a.send_scpi_cmd(lucid_device, ':INIT:GATE?')\n",
    "print('the state of continous mode :')\n",
    "a.send_scpi_cmd(lucid_device, ':INIT:CONT?')\n",
    "print('the state of source :')\n",
    "a.send_scpi_cmd(lucid_device, ':TRIG:SOUR?')\n",
    "print('the state of trigger edge :')\n",
    "a.send_scpi_cmd(lucid_device, ':TRIG:EDG?')\n",
    "print('the state of trigger adv :')\n",
    "a.send_scpi_cmd(lucid_device, ':TRIG:ADV?')\n",
    "\n",
    "\n",
    "a.send_scpi_cmd(lucid_device, 'POWer {}\\n'.format(pow))\n",
    "a.send_scpi_cmd(lucid_device, ':FRSW:STAR {}\\n'.format(start))\n",
    "a.send_scpi_cmd(lucid_device, ':FRSW:STEP {}\\n'.format(step))\n",
    "a.send_scpi_cmd(lucid_device, ':FRSW:STOP {}\\n'.format(stop))\n",
    "a.send_scpi_cmd(lucid_device, ':FRSW:TIME {}\\n'.format(time))\n",
    "a.send_scpi_cmd(lucid_device, ':FRSW:DIR NORMal\\n')\n",
    "\n",
    "# a.send_scpi_cmd(lucid_device, ':FRSW ON')\n",
    "print('the ON/OFF of FRSW :')\n",
    "a.send_scpi_cmd(lucid_device, ':FRSW?')"
   ]
  },
  {
   "cell_type": "code",
   "execution_count": null,
   "metadata": {},
   "outputs": [],
   "source": [
    "# set the parameters of single freq output\n",
    "\n",
    "freq = int(1.0003e9)\n",
    "pow = -10\n",
    "a.send_scpi_cmd(lucid_device, 'FREQuency {}\\n'.format(freq))\n",
    "a.send_scpi_cmd(lucid_device, 'POWer {}\\n'.format(pow))\n"
   ]
  },
  {
   "cell_type": "code",
   "execution_count": null,
   "metadata": {},
   "outputs": [],
   "source": [
    "\"\"\" test 1: check if there`re any munual influence between parameters of sweep mode and single freq output \"\"\"\n",
    "\n",
    "print('the value of power :')\n",
    "a.send_scpi_cmd(lucid_device, 'POWer?')\n",
    "print('the value of freq :')\n",
    "a.send_scpi_cmd(lucid_device, 'FREQuency?')\n",
    "print('the value of freq-start :')\n",
    "a.send_scpi_cmd(lucid_device, ':FRSW:STAR?')\n",
    "print('the value of freq-step :')\n",
    "a.send_scpi_cmd(lucid_device, ':FRSW:STEP?')\n",
    "print('the value of freq-stop :')\n",
    "a.send_scpi_cmd(lucid_device, ':FRSW:STOP?')\n"
   ]
  },
  {
   "cell_type": "code",
   "execution_count": null,
   "metadata": {},
   "outputs": [],
   "source": [
    "\"\"\" test 2: single frequnency output \"\"\"\n",
    "\n",
    "a.send_scpi_cmd(lucid_device, ':FRSW OFF')\n",
    "\n",
    "print('the ON/OFF of FRSW :')\n",
    "a.send_scpi_cmd(lucid_device, ':FRSW?')\n",
    "\n",
    "a.send_scpi_cmd(lucid_device, 'OUTP ON')\n",
    "sleep(8)\n",
    "a.send_scpi_cmd(lucid_device, 'OUTP OFF')"
   ]
  },
  {
   "cell_type": "code",
   "execution_count": null,
   "metadata": {},
   "outputs": [],
   "source": [
    "\"\"\" test 3: sweep mode under continous mode \"\"\"\n",
    "\n",
    "a.send_scpi_cmd(lucid_device, ':INIT:CONT ON')\n",
    "a.send_scpi_cmd(lucid_device, ':TRIG:ADV ONC')\n",
    "a.send_scpi_cmd(lucid_device, ':FRSW ON')\n",
    "\n",
    "print('the state of continous mode :')\n",
    "a.send_scpi_cmd(lucid_device, ':INIT:CONT?')\n",
    "print('the ON/OFF of FRSW :')\n",
    "a.send_scpi_cmd(lucid_device, ':FRSW?')\n",
    "print('the state of source :')\n",
    "a.send_scpi_cmd(lucid_device, ':TRIG:SOUR?')\n",
    "print('the state of adv :')\n",
    "a.send_scpi_cmd(lucid_device, ':TRIG:ADV?')\n",
    "\n",
    "a.send_scpi_cmd(lucid_device, ':OUTPut ON\\n')\n",
    "sleep(5)\n",
    "a.send_scpi_cmd(lucid_device, ':OUTPut OFF\\n')\n",
    "a.send_scpi_cmd(lucid_device, ':FRSW OFF')"
   ]
  },
  {
   "cell_type": "code",
   "execution_count": null,
   "metadata": {},
   "outputs": [],
   "source": [
    "\"\"\" test 4: sweep mode using trigger \"\"\"\n",
    "\n",
    "a.send_scpi_cmd(lucid_device, ':INIT:CONT OFF')\n",
    "a.send_scpi_cmd(lucid_device, ':INIT:GATE OFF')\n",
    "a.send_scpi_cmd(lucid_device, ':TRIG:ADV STEP')\n",
    "a.send_scpi_cmd(lucid_device, ':TRIG:SOUR EXT')\n",
    "a.send_scpi_cmd(lucid_device, ':FRSW ON')\n",
    "\n",
    "print('the state of continous mode :')\n",
    "a.send_scpi_cmd(lucid_device, ':INIT:CONT?')\n",
    "print('the state of continous mode :')\n",
    "a.send_scpi_cmd(lucid_device, ':INIT:CONT?')\n",
    "print('the state of continous mode :')\n",
    "a.send_scpi_cmd(lucid_device, ':TRIG:ADV?')\n",
    "print('the state of source :')\n",
    "a.send_scpi_cmd(lucid_device, ':TRIG:SOUR?')\n",
    "print('the ON/OFF of FRSW :')\n",
    "a.send_scpi_cmd(lucid_device, ':FRSW?')"
   ]
  },
  {
   "cell_type": "code",
   "execution_count": null,
   "metadata": {},
   "outputs": [],
   "source": [
    "a.send_scpi_cmd(lucid_device, ':OUTPut ON\\n')"
   ]
  },
  {
   "cell_type": "code",
   "execution_count": null,
   "metadata": {},
   "outputs": [],
   "source": [
    "a.send_scpi_cmd(lucid_device, ':OUTPut OFF\\n')\n",
    "# a.send_scpi_cmd(lucid_device, ':FRSW OFF')"
   ]
  },
  {
   "cell_type": "code",
   "execution_count": 129,
   "metadata": {},
   "outputs": [
    {
     "name": "stdout",
     "output_type": "stream",
     "text": [
      "\n",
      "\n",
      "\n",
      "\n",
      "\n",
      "\n",
      "\n",
      "\n",
      "the state of CONT :\n",
      "ON\n",
      "the state of ADV :\n",
      "ONC\n",
      "the ON/OFF of LIST :\n",
      "OFF\n",
      "the ON/OFF of FRSW :\n",
      "OFF\n",
      "\n"
     ]
    },
    {
     "data": {
      "text/plain": [
       "''"
      ]
     },
     "execution_count": 129,
     "metadata": {},
     "output_type": "execute_result"
    }
   ],
   "source": [
    "\"\"\" test 5: list mode without trigger \"\"\"\n",
    "\n",
    "# initializition of list parameters\n",
    "a.send_scpi_cmd(lucid_device, ':LIST:DELete:ALL')\n",
    "freq_list=[[1,2,3,4],[5e8,10e8,20e8,30e8],[-10,-10,-10,-10],[0,0,0,1],[0,0,0,0], [2,5,2,3]]\n",
    "for i in range(len(freq_list[0])):\n",
    "        a.send_scpi_cmd(lucid_device, 'LIST:DEFine {},{},{},{},{},{}'.format(\n",
    "                freq_list[0][i], \n",
    "                freq_list[1][i],\n",
    "                freq_list[2][i],\n",
    "                freq_list[3][i], \n",
    "                freq_list[4][i], \n",
    "                freq_list[5][i]\n",
    "                ))\n",
    "        sleep(0.5)\n",
    "\n",
    "a.send_scpi_cmd(lucid_device, ':INIT:CONT ON')\n",
    "a.send_scpi_cmd(lucid_device, ':TRIG:ADV ONC')\n",
    "a.send_scpi_cmd(lucid_device, ':LIST ON')\n",
    "a.send_scpi_cmd(lucid_device, ':FRSW OFF')\n",
    "\n",
    "print('the state of CONT :')\n",
    "a.send_scpi_cmd(lucid_device, ':INIT:CONT?')\n",
    "print('the state of ADV :')\n",
    "a.send_scpi_cmd(lucid_device, ':TRIG:ADV?')\n",
    "print('the ON/OFF of LIST :')\n",
    "a.send_scpi_cmd(lucid_device, ':LIST?')\n",
    "print('the ON/OFF of FRSW :')\n",
    "a.send_scpi_cmd(lucid_device, ':FRSW?')\n",
    "\n",
    "a.send_scpi_cmd(lucid_device, ':OUTPut ON\\n')\n",
    "# sleep(9)\n",
    "# a.send_scpi_cmd(lucid_device, ':OUTPut OFF\\n')\n",
    "# a.send_scpi_cmd(lucid_device, ':LIST OFF')"
   ]
  },
  {
   "cell_type": "code",
   "execution_count": 130,
   "metadata": {},
   "outputs": [
    {
     "name": "stdout",
     "output_type": "stream",
     "text": [
      "\n",
      "\n"
     ]
    },
    {
     "data": {
      "text/plain": [
       "''"
      ]
     },
     "execution_count": 130,
     "metadata": {},
     "output_type": "execute_result"
    }
   ],
   "source": [
    "# sleep(9)\n",
    "a.send_scpi_cmd(lucid_device, ':OUTPut OFF\\n')\n",
    "a.send_scpi_cmd(lucid_device, ':LIST OFF')"
   ]
  },
  {
   "cell_type": "code",
   "execution_count": 131,
   "metadata": {},
   "outputs": [
    {
     "name": "stdout",
     "output_type": "stream",
     "text": [
      "\n",
      "\n",
      "\n",
      "\n",
      "the state of CONT :\n",
      "OFF\n",
      "the state of ADV :\n",
      "STEP\n",
      "the ON/OFF of LIST :\n",
      "OFF\n",
      "the ON/OFF of FRSW :\n",
      "OFF\n",
      "\n",
      "\n"
     ]
    },
    {
     "data": {
      "text/plain": [
       "''"
      ]
     },
     "execution_count": 131,
     "metadata": {},
     "output_type": "execute_result"
    }
   ],
   "source": [
    "\"\"\" test 6: list mode using external trigger \"\"\"\n",
    "\n",
    "a.send_scpi_cmd(lucid_device, ':INIT:CONT OFF')\n",
    "a.send_scpi_cmd(lucid_device, ':TRIG:ADV STEP')\n",
    "a.send_scpi_cmd(lucid_device, ':LIST ON')\n",
    "a.send_scpi_cmd(lucid_device, ':FRSW OFF')\n",
    "\n",
    "print('the state of CONT :')\n",
    "a.send_scpi_cmd(lucid_device, ':INIT:CONT?')\n",
    "print('the state of ADV :')\n",
    "a.send_scpi_cmd(lucid_device, ':TRIG:ADV?')\n",
    "print('the ON/OFF of LIST :')\n",
    "a.send_scpi_cmd(lucid_device, ':LIST?')\n",
    "print('the ON/OFF of FRSW :')\n",
    "a.send_scpi_cmd(lucid_device, ':FRSW?')\n",
    "\n",
    "a.send_scpi_cmd(lucid_device, ':OUTPut ON\\n')\n",
    "sleep(9)\n",
    "a.send_scpi_cmd(lucid_device, ':OUTPut OFF\\n')\n",
    "a.send_scpi_cmd(lucid_device, ':LIST OFF')\n"
   ]
  }
 ],
 "metadata": {
  "kernelspec": {
   "display_name": "base",
   "language": "python",
   "name": "python3"
  },
  "language_info": {
   "codemirror_mode": {
    "name": "ipython",
    "version": 3
   },
   "file_extension": ".py",
   "mimetype": "text/x-python",
   "name": "python",
   "nbconvert_exporter": "python",
   "pygments_lexer": "ipython3",
   "version": "3.10.8"
  }
 },
 "nbformat": 4,
 "nbformat_minor": 2
}
